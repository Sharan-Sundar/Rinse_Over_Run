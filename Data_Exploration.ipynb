{
  "nbformat": 4,
  "nbformat_minor": 0,
  "metadata": {
    "colab": {
      "name": "Data_Exploration.ipynb",
      "version": "0.3.2",
      "provenance": [],
      "collapsed_sections": [
        "Uz9cqKrGgKcT",
        "RUOGZ4lNZosU"
      ],
      "include_colab_link": true
    },
    "kernelspec": {
      "name": "python3",
      "display_name": "Python 3"
    }
  },
  "cells": [
    {
      "cell_type": "markdown",
      "metadata": {
        "id": "view-in-github",
        "colab_type": "text"
      },
      "source": [
        "<a href=\"https://colab.research.google.com/github/Sharan-Sundar/Rinse_Over_Run/blob/master/Data_Exploration.ipynb\" target=\"_parent\"><img src=\"https://colab.research.google.com/assets/colab-badge.svg\" alt=\"Open In Colab\"/></a>"
      ]
    },
    {
      "metadata": {
        "id": "Uz9cqKrGgKcT",
        "colab_type": "text"
      },
      "cell_type": "markdown",
      "source": [
        "## Libraries"
      ]
    },
    {
      "metadata": {
        "id": "xzdDnvGfgLfB",
        "colab_type": "code",
        "colab": {}
      },
      "cell_type": "code",
      "source": [
        "import os\n",
        "import time\n",
        "from google.colab import drive\n",
        "import tensorflow as tf\n",
        "import pickle\n",
        "import math\n",
        "import pandas as pd\n",
        "import numpy as np\n",
        "import zipfile"
      ],
      "execution_count": 0,
      "outputs": []
    },
    {
      "metadata": {
        "id": "d6cELR22gSjf",
        "colab_type": "text"
      },
      "cell_type": "markdown",
      "source": [
        "### Mounting Drive"
      ]
    },
    {
      "metadata": {
        "id": "_21zkfNvgPid",
        "colab_type": "code",
        "outputId": "31907c47-f8bc-4036-91e1-3d2502fc9113",
        "colab": {
          "base_uri": "https://localhost:8080/",
          "height": 121
        }
      },
      "cell_type": "code",
      "source": [
        "drive.mount('/content/gdrive/')"
      ],
      "execution_count": 0,
      "outputs": [
        {
          "output_type": "stream",
          "text": [
            "Go to this URL in a browser: https://accounts.google.com/o/oauth2/auth?client_id=947318989803-6bn6qk8qdgf4n4g3pfee6491hc0brc4i.apps.googleusercontent.com&redirect_uri=urn%3Aietf%3Awg%3Aoauth%3A2.0%3Aoob&scope=email%20https%3A%2F%2Fwww.googleapis.com%2Fauth%2Fdocs.test%20https%3A%2F%2Fwww.googleapis.com%2Fauth%2Fdrive%20https%3A%2F%2Fwww.googleapis.com%2Fauth%2Fdrive.photos.readonly%20https%3A%2F%2Fwww.googleapis.com%2Fauth%2Fpeopleapi.readonly&response_type=code\n",
            "\n",
            "Enter your authorization code:\n",
            "··········\n",
            "Mounted at /content/gdrive/\n"
          ],
          "name": "stdout"
        }
      ]
    },
    {
      "metadata": {
        "id": "d42GXSN8gUIn",
        "colab_type": "code",
        "outputId": "8422b9cc-3a16-43c5-dc78-86b6b7860654",
        "colab": {
          "base_uri": "https://localhost:8080/",
          "height": 34
        }
      },
      "cell_type": "code",
      "source": [
        "!ls 'gdrive/My Drive/DrivenData'"
      ],
      "execution_count": 0,
      "outputs": [
        {
          "output_type": "stream",
          "text": [
            "Data  Data_Exploration.ipynb\n"
          ],
          "name": "stdout"
        }
      ]
    },
    {
      "metadata": {
        "id": "UloTVY1Cggk7",
        "colab_type": "text"
      },
      "cell_type": "markdown",
      "source": [
        "## Data Loading"
      ]
    },
    {
      "metadata": {
        "id": "RUOGZ4lNZosU",
        "colab_type": "text"
      },
      "cell_type": "markdown",
      "source": [
        "### Functions"
      ]
    },
    {
      "metadata": {
        "id": "z4whfmQwgcfW",
        "colab_type": "code",
        "colab": {}
      },
      "cell_type": "code",
      "source": [
        "def read_csv_from_zip(zip_path, data_file, is_tsv = False):\n",
        "\n",
        "  archive = zipfile.ZipFile(zip_path, 'r')\n",
        "  if( is_tsv ):\n",
        "    data = pd.read_csv(archive.open(data_file),delimiter='\\t',header=None)\n",
        "  else:\n",
        "    data = pd.read_csv(archive.open(data_file),header=None)\n",
        "  print(\"Null values in Data: \", data.isnull().values.any())\n",
        "  print(data.head())\n",
        "  return data\n",
        "\n",
        "\n",
        "def read_csv(file, is_tsv = False):\n",
        "  if( is_tsv ):\n",
        "    data = pd.read_csv(file,delimiter='\\t',header=None)\n",
        "  else:\n",
        "    data = pd.read_csv(file,header=None)\n",
        "  print(\"Null values in Data: \", data.isnull().values.any())\n",
        "  print(data.head())\n",
        "  return data"
      ],
      "execution_count": 0,
      "outputs": []
    },
    {
      "metadata": {
        "id": "VAUAxI2ZZrhH",
        "colab_type": "text"
      },
      "cell_type": "markdown",
      "source": [
        "### Loading"
      ]
    },
    {
      "metadata": {
        "id": "_oRr4aPSg_Vq",
        "colab_type": "code",
        "outputId": "f2a728fa-e0e2-4ab4-9f7a-cef28e506d67",
        "colab": {
          "base_uri": "https://localhost:8080/",
          "height": 810
        }
      },
      "cell_type": "code",
      "source": [
        "zip_path  = \"gdrive/My Drive/DrivenData/Data/train_values.zip\"\n",
        "data_file  = \"train_values.csv\"\n",
        "\n",
        "train_df = read_csv_from_zip(zip_path,data_file)"
      ],
      "execution_count": 0,
      "outputs": [
        {
          "output_type": "stream",
          "text": [
            "/usr/local/lib/python3.6/dist-packages/IPython/core/interactiveshell.py:2822: DtypeWarning: Columns (0,1,2,6,7,8,9,10,11,12,13,14,15,16,17,18,19,20,21,22,23,24,25,26,27,28,29,30,31,32,33,34,35) have mixed types. Specify dtype option on import or set low_memory=False.\n",
            "  if self.run_code(code, result):\n"
          ],
          "name": "stderr"
        },
        {
          "output_type": "stream",
          "text": [
            "Null values in Data:  False\n",
            "       0           1          2          3                    4         5   \\\n",
            "0  row_id  process_id  object_id      phase            timestamp  pipeline   \n",
            "1       0       20001        405  pre_rinse  2018-04-15 04:20:47        L4   \n",
            "2       1       20001        405  pre_rinse  2018-04-15 04:20:49        L4   \n",
            "3       2       20001        405  pre_rinse  2018-04-15 04:20:51        L4   \n",
            "4       3       20001        405  pre_rinse  2018-04-15 04:20:53        L4   \n",
            "\n",
            "                   6                7                   8   \\\n",
            "0         supply_flow  supply_pressure  return_temperature   \n",
            "1            8550.348        0.6154514           18.044704   \n",
            "2           11364.294        0.6542969           18.229168   \n",
            "3           12174.479       0.69986975           18.395544   \n",
            "4  13436.776000000002        0.7615018           18.583622   \n",
            "\n",
            "                    9          ...                                  26  \\\n",
            "0  return_conductivity         ...          tank_temperature_pre_rinse   \n",
            "1   4.9907645999999986         ...                           32.385708   \n",
            "2            3.7496796         ...                           32.385708   \n",
            "3             2.783954         ...                           32.385708   \n",
            "4             1.769353         ...                           32.385708   \n",
            "\n",
            "                         27                     28  \\\n",
            "0  tank_temperature_caustic  tank_temperature_acid   \n",
            "1                  83.03675               73.03241   \n",
            "2                 83.015045               73.03241   \n",
            "3                 83.015045               73.03241   \n",
            "4                  83.03675               73.03241   \n",
            "\n",
            "                           29                       30                31  \\\n",
            "0  tank_concentration_caustic  tank_concentration_acid  tank_lsh_caustic   \n",
            "1                   45.394646                44.340126             False   \n",
            "2                   45.394447                 44.33938             False   \n",
            "3                    45.39628                44.336735             False   \n",
            "4                   45.401875                 44.33311             False   \n",
            "\n",
            "              32                    33                  34                  35  \n",
            "0  tank_lsh_acid  tank_lsh_clean_water  tank_lsh_pre_rinse  target_time_period  \n",
            "1            0.0                 False                 0.0               False  \n",
            "2            0.0                 False                 0.0               False  \n",
            "3            0.0                 False                 0.0               False  \n",
            "4            0.0                 False                 0.0               False  \n",
            "\n",
            "[5 rows x 36 columns]\n"
          ],
          "name": "stdout"
        }
      ]
    },
    {
      "metadata": {
        "id": "VvBkXPCph4Qy",
        "colab_type": "code",
        "outputId": "b0464329-43ca-4673-b5f7-9a5e85b0cba5",
        "colab": {
          "base_uri": "https://localhost:8080/",
          "height": 134
        }
      },
      "cell_type": "code",
      "source": [
        "zip_path  = \"gdrive/My Drive/DrivenData/Data/\"\n",
        "data_file  = \"train_labels.csv\"\n",
        "\n",
        "labels_df = read_csv(zip_path+data_file)"
      ],
      "execution_count": 0,
      "outputs": [
        {
          "output_type": "stream",
          "text": [
            "Null values in Data:  False\n",
            "            0                                  1\n",
            "0  process_id  final_rinse_total_turbidity_liter\n",
            "1       20001                  4318275.125548181\n",
            "2       20002                 437528.57109794125\n",
            "3       20003                 427197.73393308115\n",
            "4       20004                  719783.0261053689\n"
          ],
          "name": "stdout"
        }
      ]
    },
    {
      "metadata": {
        "id": "lVk7hvUgR1f0",
        "colab_type": "code",
        "outputId": "50b0e334-26e7-4b47-c744-bb3a262a5567",
        "colab": {
          "base_uri": "https://localhost:8080/",
          "height": 134
        }
      },
      "cell_type": "code",
      "source": [
        "zip_path  = \"gdrive/My Drive/DrivenData/Data/\"\n",
        "data_file  = \"recipe_metadata.csv\"\n",
        "\n",
        "meta_df = read_csv(zip_path+data_file)"
      ],
      "execution_count": 0,
      "outputs": [
        {
          "output_type": "stream",
          "text": [
            "Null values in Data:  False\n",
            "            0          1        2                   3     4            5\n",
            "0  process_id  pre_rinse  caustic  intermediate_rinse  acid  final_rinse\n",
            "1       20000          1        1                   1     1            1\n",
            "2       20001          1        1                   1     1            1\n",
            "3       20002          1        1                   0     0            1\n",
            "4       20003          1        1                   1     1            1\n"
          ],
          "name": "stdout"
        }
      ]
    },
    {
      "metadata": {
        "id": "losIlVqWSEIl",
        "colab_type": "code",
        "outputId": "99bb153d-9780-4eb4-9603-f891807a6365",
        "colab": {
          "base_uri": "https://localhost:8080/",
          "height": 134
        }
      },
      "cell_type": "code",
      "source": [
        "zip_path  = \"gdrive/My Drive/DrivenData/Data/\"\n",
        "data_file  = \"submission_format.csv\"\n",
        "\n",
        "sub_df = read_csv(zip_path+data_file)"
      ],
      "execution_count": 0,
      "outputs": [
        {
          "output_type": "stream",
          "text": [
            "Null values in Data:  False\n",
            "            0                                  1\n",
            "0  process_id  final_rinse_total_turbidity_liter\n",
            "1       20000                                1.0\n",
            "2       20006                                1.0\n",
            "3       20007                                1.0\n",
            "4       20009                                1.0\n"
          ],
          "name": "stdout"
        }
      ]
    },
    {
      "metadata": {
        "id": "9jkyDdBOSUf7",
        "colab_type": "code",
        "colab": {}
      },
      "cell_type": "code",
      "source": [
        ""
      ],
      "execution_count": 0,
      "outputs": []
    },
    {
      "metadata": {
        "id": "yTO-C19pZWRU",
        "colab_type": "code",
        "colab": {}
      },
      "cell_type": "code",
      "source": [
        ""
      ],
      "execution_count": 0,
      "outputs": []
    }
  ]
}